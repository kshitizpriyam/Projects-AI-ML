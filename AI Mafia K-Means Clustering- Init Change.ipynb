{
 "cells": [
  {
   "cell_type": "markdown",
   "metadata": {},
   "source": [
    "# K-Means\n",
    "- Common clustering technique, helps to solve many problems efficiently.\n",
    "- K-Means is an example of Hard Clustering, where every point belongs only to one cluster.\n",
    "\n",
    "## Motivation Problem - *Pizza Parlour Study*\n",
    "\n",
    "**Problem Statement** Given the list of locations of customers who frequently order Pizza we want to find out optimal locations of Pizza Parlours where they should be opened.\n",
    "\n",
    "<img src=\"pizza1.png\" alt=\"Pizza-1\" style=\"width: 400px;\"/>\n",
    "\n",
    "**Step-1** : Initialise Pizza Parlour Centers randomly.\n",
    "<img src=\"pizza2.png\" alt=\"Pizza-2\" style=\"width: 400px;\"/>\n",
    "\n",
    "**Step-2** : Assign each customer to its nearest Pizza Center.\n",
    "<img src=\"pizza3.png\" alt=\"Pizza-3\" style=\"width: 400px;\"/>\n",
    "\n",
    "**Step-3** : Update the Center Location by taking mean of customers assigned to it.\n",
    "<img src=\"pizza4.png\" alt=\"Pizza-4\" style=\"width: 400px;\"/>\n",
    "\n",
    "**Step-4** : Repeat Steps 2 and 3 Until Convergence.\n",
    "<img src=\"pizza5.png\" alt=\"Pizza-5\" style=\"width: 400px;\"/>"
   ]
  },
  {
   "cell_type": "markdown",
   "metadata": {},
   "source": [
    "## K-Means Algorithm\n",
    "\n",
    "**Input Data** : X = {x1,...,xN}\n",
    "\n",
    "**Goal** : Partition the data among some K number of clusters. Let us assume K is known to us.\n",
    "\n",
    "Let µk denote the center of Kth Cluster (uk will be vector)\n",
    "\n",
    "So we need to ﬁnd an assignment of data points to clusters,\n",
    "as well as a set of cluster centers{µk}, such that the sum of the squares \n",
    "of the distances of each data point to its closest cluster center µk, is a minimum. \n",
    "\n"
   ]
  },
  {
   "cell_type": "markdown",
   "metadata": {},
   "source": [
    "\n",
    "<img src=\"k-means.png\" alt=\"Pizza-1\" style=\"width: 600px;\"/>\n"
   ]
  },
  {
   "cell_type": "markdown",
   "metadata": {},
   "source": [
    "## Implementation\n",
    "\n"
   ]
  },
  {
   "cell_type": "code",
   "execution_count": 1,
   "metadata": {},
   "outputs": [],
   "source": [
    "import numpy as np\n",
    "from matplotlib import pyplot as plt\n",
    "from sklearn.datasets import make_blobs"
   ]
  },
  {
   "cell_type": "markdown",
   "metadata": {},
   "source": [
    "## Dataset Preparation"
   ]
  },
  {
   "cell_type": "code",
   "execution_count": 2,
   "metadata": {},
   "outputs": [],
   "source": [
    "x,y = make_blobs(n_samples=1000, n_features=2, centers=5, random_state=3)"
   ]
  },
  {
   "cell_type": "code",
   "execution_count": 5,
   "metadata": {},
   "outputs": [
    {
     "data": {
      "image/png": "[encoded data removed]",
      "text/plain": [
       "<Figure size 432x288 with 1 Axes>"
      ]
     },
     "metadata": {
      "needs_background": "light"
     },
     "output_type": "display_data"
    }
   ],
   "source": [
    "plt.scatter(x[:,0], x[:,1])\n",
    "plt.show()"
   ]
  },
  {
   "cell_type": "code",
   "execution_count": 7,
   "metadata": {},
   "outputs": [],
   "source": [
    "# Let's define k \n",
    "k = 5\n",
    "\n",
    "color = ['green', 'red', 'blue', 'yellow', 'gray']\n",
    "clusters = {}\n",
    "\n",
    "for i in range(k):\n",
    "    center = 10*(2*np.random.random((x.shape[1],))-1)\n",
    "    points = []\n",
    "    \n",
    "    cluster = {\n",
    "        'center':center, \n",
    "        'points':points,\n",
    "        'color':color[i]\n",
    "    }\n",
    "    \n",
    "    clusters[i] = cluster\n",
    "    \n"
   ]
  },
  {
   "cell_type": "code",
   "execution_count": 8,
   "metadata": {},
   "outputs": [
    {
     "data": {
      "text/plain": [
       "{0: {'center': array([ 3.43760052, -8.28593503]),\n",
       "  'points': [],\n",
       "  'color': 'green'},\n",
       " 1: {'center': array([2.73259975, 2.50688188]), 'points': [], 'color': 'red'},\n",
       " 2: {'center': array([-2.37743812, -2.93905   ]),\n",
       "  'points': [],\n",
       "  'color': 'blue'},\n",
       " 3: {'center': array([5.9435187 , 5.82473366]),\n",
       "  'points': [],\n",
       "  'color': 'yellow'},\n",
       " 4: {'center': array([7.78208881, 5.9488267 ]), 'points': [], 'color': 'gray'}}"
      ]
     },
     "execution_count": 8,
     "metadata": {},
     "output_type": "execute_result"
    }
   ],
   "source": [
    "clusters"
   ]
  },
  {
   "cell_type": "code",
   "execution_count": 9,
   "metadata": {},
   "outputs": [],
   "source": [
    "def distance(v1,v2):\n",
    "    return np.sqrt(np.sum((v1-v2)**2))"
   ]
  },
  {
   "cell_type": "code",
   "execution_count": 34,
   "metadata": {},
   "outputs": [],
   "source": [
    "# Assign every data point to one of the clusters \n",
    "def assignPointToClusters(clusters): #E-step \n",
    "\n",
    "    for every_data_point in range(x.shape[0]):\n",
    "        \n",
    "        dist = []\n",
    "        current_x = x[every_data_point]\n",
    "        for kx in range(k):\n",
    "            d = distance(current_x, clusters[kx]['center'])\n",
    "            dist.append(d)\n",
    "            \n",
    "        current_cluster = np.argmin(dist)\n",
    "        clusters[current_cluster]['points'].append(x[every_data_point])\n",
    "    "
   ]
  },
  {
   "cell_type": "code",
   "execution_count": 35,
   "metadata": {},
   "outputs": [],
   "source": [
    "def updateClusters(clusters): #M-Step -> We update every cluster center according to the mean of the points\n",
    "    for kx in range(k):\n",
    "        pts = np.array(clusters[kx]['points'])\n",
    "        \n",
    "        if pts.shape[0]>0: # if cluster has some non-zero points\n",
    "            new_mean = pts.mean(axis=0)\n",
    "            clusters[kx]['center'] = new_mean\n",
    "            #clear my points list \n",
    "            clusters[kx]['points'] = []      \n",
    "        "
   ]
  },
  {
   "cell_type": "code",
   "execution_count": 36,
   "metadata": {},
   "outputs": [],
   "source": [
    "def plotClusters(clusters):\n",
    "    \n",
    "    for kx in range(k):\n",
    "        \n",
    "        pts = np.array(clusters[kx]['points'])\n",
    "        \n",
    "        if pts.shape[0] > 0:\n",
    "            plt.scatter(pts[:,0], pts[:,1], color = clusters[kx]['color'])\n",
    "            \n",
    "        # plot the cluster center\n",
    "        uk = clusters[kx]['center']\n",
    "        plt.scatter(uk[0], uk[1], color='black', marker='*')"
   ]
  },
  {
   "cell_type": "code",
   "execution_count": 40,
   "metadata": {},
   "outputs": [
    {
     "data": {
      "image/png": "[encoded data removed]",
      "text/plain": [
       "<Figure size 432x288 with 1 Axes>"
      ]
     },
     "metadata": {
      "needs_background": "light"
     },
     "output_type": "display_data"
    }
   ],
   "source": [
    "assignPointToClusters(clusters)\n",
    "plotClusters(clusters)\n",
    "updateClusters(clusters)"
   ]
  },
  {
   "cell_type": "code",
   "execution_count": 21,
   "metadata": {},
   "outputs": [],
   "source": [
    "# Repeat the process of step 2 and step 3 until convergence \n",
    "\n",
    "count =1 \n",
    "while True:\n",
    "    assignPointToClusters(clusters)\n",
    "    updateClusters(clusters)\n",
    "    count+=1\n",
    "    if count>1000:\n",
    "        break"
   ]
  },
  {
   "cell_type": "code",
   "execution_count": 22,
   "metadata": {},
   "outputs": [
    {
     "data": {
      "image/png": "[encoded data removed]",
      "text/plain": [
       "<Figure size 432x288 with 1 Axes>"
      ]
     },
     "metadata": {
      "needs_background": "light"
     },
     "output_type": "display_data"
    }
   ],
   "source": [
    "assignPointToClusters(clusters)\n",
    "plotClusters(clusters)"
   ]
  },
  {
   "cell_type": "code",
   "execution_count": null,
   "metadata": {},
   "outputs": [],
   "source": []
  }
 ],
 "metadata": {
  "kernelspec": {
   "display_name": "Python 3",
   "language": "python",
   "name": "python3"
  },
  "language_info": {
   "codemirror_mode": {
    "name": "ipython",
    "version": 3
   },
   "file_extension": ".py",
   "mimetype": "text/x-python",
   "name": "python",
   "nbconvert_exporter": "python",
   "pygments_lexer": "ipython3",
   "version": "3.8.5"
  }
 },
 "nbformat": 4,
 "nbformat_minor": 2
}

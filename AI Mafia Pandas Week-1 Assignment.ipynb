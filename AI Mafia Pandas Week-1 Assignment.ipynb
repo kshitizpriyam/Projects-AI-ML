{
 "cells": [
  {
   "cell_type": "code",
   "execution_count": 1,
   "metadata": {},
   "outputs": [
    {
     "data": {
      "text/plain": [
       "({'cell_type': 'markdown', 'metadata': {}, 'source': ['import pandas as pd']},)"
      ]
     },
     "execution_count": 1,
     "metadata": {},
     "output_type": "execute_result"
    }
   ],
   "source": [
    " # import pandas\n",
    "    {\n",
    "   \"cell_type\": \"markdown\",\n",
    "   \"metadata\": {},\n",
    "   \"source\": [\n",
    "    \"import pandas as pd\"\n",
    "   ]\n",
    "  },"
   ]
  },
  {
   "cell_type": "code",
   "execution_count": 2,
   "metadata": {},
   "outputs": [
    {
     "data": {
      "text/plain": [
       "({'cell_type': 'code',\n",
       "  'execution_count': 'null',\n",
       "  'metadata': {},\n",
       "  'outputs': [],\n",
       "  'source': [\"import pandas as pdimport numpy as npdf = pd.read_csv('movies_metadata.csv')\"]},)"
      ]
     },
     "execution_count": 2,
     "metadata": {},
     "output_type": "execute_result"
    }
   ],
   "source": [
    "# load imdb dataset as pandas dataframe\n",
    "{\n",
    "   \"cell_type\": \"code\",\n",
    "   \"execution_count\": \"null\",\n",
    "   \"metadata\": {},\n",
    "   \"outputs\": [],\n",
    "   \"source\": [\n",
    "    \"import pandas as pd\"\n",
    "    \"import numpy as np\"\n",
    "    \"df = pd.read_csv('movies_metadata.csv')\"\n",
    "   ]\n",
    "  },"
   ]
  },
  {
   "cell_type": "code",
   "execution_count": 3,
   "metadata": {},
   "outputs": [
    {
     "data": {
      "text/plain": [
       "({'cell_type': 'code',\n",
       "  'execution_count': 'null',\n",
       "  'metadata': {},\n",
       "  'outputs': [],\n",
       "  'source': [\"import pandas as pddf = pd.read_csv('movies_metadata.csv')result = df.head(5)print(result)\"]},)"
      ]
     },
     "execution_count": 3,
     "metadata": {},
     "output_type": "execute_result"
    }
   ],
   "source": [
    "# show first 5 rows of imdb_df\n",
    "{\n",
    "   \"cell_type\": \"code\",\n",
    "   \"execution_count\":\"null\",\n",
    "   \"metadata\": {},\n",
    "   \"outputs\": [],\n",
    "   \"source\": [\n",
    "    \"import pandas as pd\"\n",
    "    \"df = pd.read_csv('movies_metadata.csv')\"\n",
    "    \"result = df.head(5)\"\n",
    "    \"print(result)\"\n",
    "   ]\n",
    "  },"
   ]
  },
  {
   "cell_type": "code",
   "execution_count": 4,
   "metadata": {},
   "outputs": [
    {
     "data": {
      "text/plain": [
       "({'cell_type': 'code',\n",
       "  'execution_count': 'null',\n",
       "  'metadata': {},\n",
       "  'outputs': [],\n",
       "  'source': ['import pydotplusfrom sklearn import treefrom sklearn import metricsfrom sklearn import preprocessingfrom sklearn.tree import DecisionTreeRegressorfrom sklearn.model_selection import GridSearchCV']},)"
      ]
     },
     "execution_count": 4,
     "metadata": {},
     "output_type": "execute_result"
    }
   ],
   "source": [
    "# load bikes dataset as pandas dataframe\n",
    "{\n",
    "   \"cell_type\": \"code\",\n",
    "   \"execution_count\": \"null\",\n",
    "   \"metadata\": {},\n",
    "   \"outputs\": [],\n",
    "   \"source\": [\n",
    "    \"bikes=pd.read_csv(../input/bikeshare.csv, index_col='datetime', parse_dates=True)\"\n",
    "    \"bikes.head()\"\n",
    "    \"season\tholiday\tworkingday\"\n",
    "   ]\n",
    "  },"
   ]
  },
  {
   "cell_type": "code",
   "execution_count": 5,
   "metadata": {},
   "outputs": [
    {
     "data": {
      "text/plain": [
       "({'cell_type': 'code',\n",
       "  'execution_count': 'null',\n",
       "  'metadata': {},\n",
       "  'outputs': [],\n",
       "  'source': ['import pandas as pd df = pd.DataFrame(index_col , parse_dates)print(First three rows of the data frame:)print(df.iloc[:3])']},)"
      ]
     },
     "execution_count": 5,
     "metadata": {},
     "output_type": "execute_result"
    }
   ],
   "source": [
    "# show first 3 rows of bikes_df\n",
    "{\n",
    "   \"cell_type\": \"code\",\n",
    "   \"execution_count\": \"null\",\n",
    "   \"metadata\": {},\n",
    "   \"outputs\": [],\n",
    "   \"source\": [\n",
    "    \"import pandas as pd\"\n",
    "    \" df = pd.DataFrame(index_col , parse_dates)\"\n",
    "    \"print(First three rows of the data frame:)\"\n",
    "    \"print(df.iloc[:3])\"   \n",
    "       \n",
    "   ]\n",
    "  },"
   ]
  },
  {
   "cell_type": "code",
   "execution_count": 6,
   "metadata": {},
   "outputs": [
    {
     "data": {
      "text/plain": [
       "({'cell_type': 'code',\n",
       "  'execution_count': 'null',\n",
       "  'metadata': {},\n",
       "  'outputs': [],\n",
       "  'source': [\"import pandas as pddf = pd.read_csv('movies_metadata.csv')print(df.columns)\"]},)"
      ]
     },
     "execution_count": 6,
     "metadata": {},
     "output_type": "execute_result"
    }
   ],
   "source": [
    " # list columns of imdb_df\n",
    "{\n",
    "   \"cell_type\": \"code\",\n",
    "   \"execution_count\": \"null\",\n",
    "   \"metadata\": {},\n",
    "   \"outputs\": [],\n",
    "   \"source\": [\n",
    "    \"import pandas as pd\"\n",
    "    \"df = pd.read_csv('movies_metadata.csv')\"\n",
    "    \"print(df.columns)\"   \n",
    "   ]\n",
    "  },"
   ]
  },
  {
   "cell_type": "code",
   "execution_count": 7,
   "metadata": {},
   "outputs": [
    {
     "data": {
      "text/plain": [
       "({'cell_type': 'code',\n",
       "  'execution_count': 'null',\n",
       "  'metadata': {},\n",
       "  'outputs': [],\n",
       "  'source': [\"import pandas as pddf = pd.read_csv('movies_metadata.csv')result = df.info()print(result)\"]},)"
      ]
     },
     "execution_count": 7,
     "metadata": {},
     "output_type": "execute_result"
    }
   ],
   "source": [
    "# what are the datatypes of values in columns\n",
    "{\n",
    "   \"cell_type\": \"code\",\n",
    "   \"execution_count\": \"null\",\n",
    "   \"metadata\": {},\n",
    "   \"outputs\": [],\n",
    "   \"source\": [\n",
    "    \"import pandas as pd\"\n",
    "    \"df = pd.read_csv('movies_metadata.csv')\"\n",
    "    \"result = df.info()\"\n",
    "    \"print(result)\"\n",
    "   ]\n",
    "  },"
   ]
  },
  {
   "cell_type": "code",
   "execution_count": null,
   "metadata": {},
   "outputs": [],
   "source": []
  }
 ],
 "metadata": {
  "kernelspec": {
   "display_name": "Python 3",
   "language": "python",
   "name": "python3"
  },
  "language_info": {
   "codemirror_mode": {
    "name": "ipython",
    "version": 3
   },
   "file_extension": ".py",
   "mimetype": "text/x-python",
   "name": "python",
   "nbconvert_exporter": "python",
   "pygments_lexer": "ipython3",
   "version": "3.8.5"
  }
 },
 "nbformat": 4,
 "nbformat_minor": 4
}

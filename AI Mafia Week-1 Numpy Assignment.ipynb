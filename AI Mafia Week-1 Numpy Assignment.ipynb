{
 "cells": [
  {
   "cell_type": "code",
   "execution_count": 19,
   "metadata": {},
   "outputs": [
    {
     "data": {
      "text/plain": [
       "({'cell_type': 'code',\n",
       "  'execution_count': 'null',\n",
       "  'metadata': {'collapsed': 'true'},\n",
       "  'outputs': [],\n",
       "  'source': ['import numpy as np']},)"
      ]
     },
     "execution_count": 19,
     "metadata": {},
     "output_type": "execute_result"
    }
   ],
   "source": [
    "#### 1. Import the numpy package under the name\n",
    "{\n",
    "   \"cell_type\": \"code\",\n",
    "   \"execution_count\": \"null\",\n",
    "   \"metadata\": {\n",
    "    \"collapsed\": \"true\"\n",
    "   },\n",
    "   \"outputs\": [],\n",
    "   \"source\": [ \"import numpy as np\"]\n",
    "  },"
   ]
  },
  {
   "cell_type": "code",
   "execution_count": 20,
   "metadata": {},
   "outputs": [
    {
     "data": {
      "text/plain": [
       "({'cell_type': 'code',\n",
       "  'execution_count': 'null',\n",
       "  'metadata': {},\n",
       "  'outputs': [],\n",
       "  'source': ['import numpy as npprint(np.__version__)print(np.show_config())']},)"
      ]
     },
     "execution_count": 20,
     "metadata": {},
     "output_type": "execute_result"
    }
   ],
   "source": [
    "#### 2. Print the numpy version and the configuration\n",
    "{\n",
    "   \"cell_type\": \"code\",\n",
    "   \"execution_count\": \"null\",\n",
    "   \"metadata\": {},\n",
    "   \"outputs\": [],\n",
    "   \"source\": [\"import numpy as np\"\n",
    "              \"print(np.__version__)\"\n",
    "              \"print(np.show_config())\"]\n",
    "  },"
   ]
  },
  {
   "cell_type": "code",
   "execution_count": 22,
   "metadata": {},
   "outputs": [
    {
     "data": {
      "text/plain": [
       "({'cell_type': 'code',\n",
       "  'execution_count': 'null',\n",
       "  'metadata': {},\n",
       "  'outputs': [],\n",
       "  'source': ['import numpy as npx=np.zeros(10)']},)"
      ]
     },
     "execution_count": 22,
     "metadata": {},
     "output_type": "execute_result"
    }
   ],
   "source": [
    "#### 3. Create a null vector of size 10\n",
    "{\n",
    "   \"cell_type\": \"code\",\n",
    "   \"execution_count\": \"null\",\n",
    "   \"metadata\": {},\n",
    "   \"outputs\": [],\n",
    "   \"source\": [\"import numpy as np\"\n",
    "             \"x=np.zeros(10)\"]\n",
    "  },"
   ]
  },
  {
   "cell_type": "code",
   "execution_count": 26,
   "metadata": {},
   "outputs": [
    {
     "data": {
      "text/plain": [
       "({'cell_type': 'code',\n",
       "  'execution_count': 'null',\n",
       "  'metadata': {},\n",
       "  'outputs': [],\n",
       "  'source': ['import numpy as npx = np.array([100,24,30])print(x.size)print(x.itemsize)print(Memory Size=,x.size*x.itemsize)']},)"
      ]
     },
     "execution_count": 26,
     "metadata": {},
     "output_type": "execute_result"
    }
   ],
   "source": [
    "#### 4.  How to find the memory size of any array\n",
    "{\n",
    "   \"cell_type\": \"code\",\n",
    "   \"execution_count\": \"null\",\n",
    "   \"metadata\": {},\n",
    "   \"outputs\": [],\n",
    "   \"source\": [\"import numpy as np\"\n",
    "             \"x = np.array([100,24,30])\"\n",
    "             \"print(x.size)\"\n",
    "             \"print(x.itemsize)\"\n",
    "             \"print(Memory Size=,x.size*x.itemsize)\"]\n",
    "  },"
   ]
  },
  {
   "cell_type": "code",
   "execution_count": 27,
   "metadata": {},
   "outputs": [
    {
     "data": {
      "text/plain": [
       "({'cell_type': 'code',\n",
       "  'execution_count': 'null',\n",
       "  'metadata': {'collapsed': 'true'},\n",
       "  'outputs': [],\n",
       "  'source': ['python -c import numpy; numpy.info(numpy.add)']},)"
      ]
     },
     "execution_count": 27,
     "metadata": {},
     "output_type": "execute_result"
    }
   ],
   "source": [
    "#### 5.  How to get the documentation of the numpy add function from the command line?\n",
    "{\n",
    "   \"cell_type\": \"code\",\n",
    "   \"execution_count\": \"null\",\n",
    "   \"metadata\": {\n",
    "    \"collapsed\": \"true\"\n",
    "   },\n",
    "   \"outputs\": [],\n",
    "   \"source\": [\"python -c import numpy; numpy.info(numpy.add)\"]\n",
    "  },"
   ]
  },
  {
   "cell_type": "code",
   "execution_count": 29,
   "metadata": {},
   "outputs": [
    {
     "data": {
      "text/plain": [
       "({'cell_type': 'code',\n",
       "  'execution_count': 'null',\n",
       "  'metadata': {},\n",
       "  'outputs': [],\n",
       "  'source': ['Z= np.zeros(10)Z[4]= 1print (Z)']},)"
      ]
     },
     "execution_count": 29,
     "metadata": {},
     "output_type": "execute_result"
    }
   ],
   "source": [
    " #### 6.  Create a null vector of size 10 but the fifth value which is 1\n",
    "    {\n",
    "   \"cell_type\": \"code\",\n",
    "   \"execution_count\": \"null\",\n",
    "   \"metadata\": {},\n",
    "   \"outputs\": [],\n",
    "   \"source\": [\"import numpy as np\"\n",
    "              \"Z= np.zeros(10)\"\n",
    "              \"Z[4]= 1\"\n",
    "              \"print (Z)\"]\n",
    "  },"
   ]
  },
  {
   "cell_type": "code",
   "execution_count": 30,
   "metadata": {},
   "outputs": [
    {
     "data": {
      "text/plain": [
       "({'cell_type': 'code',\n",
       "  'execution_count': 'null',\n",
       "  'metadata': {},\n",
       "  'outputs': [],\n",
       "  'source': ['import numpy as npZ=np.arrange(10,50)print(Z)']},)"
      ]
     },
     "execution_count": 30,
     "metadata": {},
     "output_type": "execute_result"
    }
   ],
   "source": [
    " #### 7.  Create a vector with values ranging from 10 to 49\n",
    "    {\n",
    "   \"cell_type\": \"code\",\n",
    "   \"execution_count\": \"null\",\n",
    "   \"metadata\": {},\n",
    "   \"outputs\": [],\n",
    "   \"source\": [\"import numpy as np\"\n",
    "              \"Z=np.arrange(10,50)\"\n",
    "             \"print(Z)\"]\n",
    "  },"
   ]
  },
  {
   "cell_type": "code",
   "execution_count": 32,
   "metadata": {},
   "outputs": [
    {
     "data": {
      "text/plain": [
       "({'cell_type': 'code',\n",
       "  'execution_count': 'null',\n",
       "  'metadata': {},\n",
       "  'outputs': [],\n",
       "  'source': ['import numpy as npZ=np.arrange(10,50)Z = Z[::-1]print(Z)']},)"
      ]
     },
     "execution_count": 32,
     "metadata": {},
     "output_type": "execute_result"
    }
   ],
   "source": [
    "#### 8.  Reverse a vector (first element becomes last)\n",
    "{\n",
    "   \"cell_type\": \"code\",\n",
    "   \"execution_count\": \"null\",\n",
    "   \"metadata\": {},\n",
    "   \"outputs\": [],\n",
    "   \"source\": [\"import numpy as np\"\n",
    "              \"Z=np.arrange(10,50)\"\n",
    "              \"Z = Z[::-1]\"\n",
    "              \"print(Z)\"]\n",
    "  },"
   ]
  },
  {
   "cell_type": "code",
   "execution_count": 34,
   "metadata": {},
   "outputs": [
    {
     "data": {
      "text/plain": [
       "({'cell_type': 'code',\n",
       "  'execution_count': 'null',\n",
       "  'metadata': {},\n",
       "  'outputs': [],\n",
       "  'source': ['Z=z.arrange(9).reshape(3,3)print(Z)']},)"
      ]
     },
     "execution_count": 34,
     "metadata": {},
     "output_type": "execute_result"
    }
   ],
   "source": [
    "#### 9.  Create a 3x3 matrix with values ranging from 0 to 8\n",
    "{\n",
    "   \"cell_type\": \"code\",\n",
    "   \"execution_count\": \"null\",\n",
    "   \"metadata\": {},\n",
    "   \"outputs\": [],\n",
    "   \"source\": [\"Z=z.arrange(9).reshape(3,3)\"\n",
    "             \"print(Z)\"]\n",
    "  },"
   ]
  },
  {
   "cell_type": "code",
   "execution_count": 40,
   "metadata": {},
   "outputs": [
    {
     "data": {
      "text/plain": [
       "({'cell_type': 'code',\n",
       "  'execution_count': 'null',\n",
       "  'metadata': {},\n",
       "  'outputs': [],\n",
       "  'source': ['import numpy as npnz=np.nonzero([1,2,0,0,4,0])print(nz)']},)"
      ]
     },
     "execution_count": 40,
     "metadata": {},
     "output_type": "execute_result"
    }
   ],
   "source": [
    "#### 10. Find indices of non-zero elements from \\\\[1,2,0,0,4,0\\\\]\n",
    "{\n",
    "   \"cell_type\": \"code\",\n",
    "   \"execution_count\": \"null\",\n",
    "   \"metadata\": {},\n",
    "   \"outputs\": [],\n",
    "   \"source\": [\"import numpy as np\"\n",
    "             \"nz=np.nonzero([1,2,0,0,4,0])\"\n",
    "             \"print(nz)\"]\n",
    "  },"
   ]
  },
  {
   "cell_type": "code",
   "execution_count": null,
   "metadata": {},
   "outputs": [],
   "source": []
  }
 ],
 "metadata": {
  "kernelspec": {
   "display_name": "Python 3",
   "language": "python",
   "name": "python3"
  },
  "language_info": {
   "codemirror_mode": {
    "name": "ipython",
    "version": 3
   },
   "file_extension": ".py",
   "mimetype": "text/x-python",
   "name": "python",
   "nbconvert_exporter": "python",
   "pygments_lexer": "ipython3",
   "version": "3.8.5"
  }
 },
 "nbformat": 4,
 "nbformat_minor": 4
}
